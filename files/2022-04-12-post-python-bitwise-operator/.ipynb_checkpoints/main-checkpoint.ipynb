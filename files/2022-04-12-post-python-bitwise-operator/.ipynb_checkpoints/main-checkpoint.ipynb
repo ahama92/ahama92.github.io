{
 "cells": [
  {
   "cell_type": "markdown",
   "id": "d5dc085c-c68b-4262-84fc-1fa2d6475cc2",
   "metadata": {},
   "source": [
    "Let's talk about the bitwise operators in python,\n",
    "\n",
    "`<<`, `>>`, `&`, `|`, `~`, `^`.\n",
    "\n",
    "They usually operate on numbers but instead of treating them like a single value, they treat them as a string of bits written in [2's complement](https://en.wikipedia.org/wiki/Two's_complement) binary. 2's complement is calculated by inverting the bits and adding 1.\n",
    "\n",
    "* For a list of python operators read [this](https://www.javatpoint.com/python-operators).\n",
    "\n",
    "### 2's Complement Binary form for Positive Integers\n",
    "\n",
    "$\n",
    "(2)_{10} = 010 \\\\\n",
    "(5)_{10} = 0101 \\\\\n",
    "(9)_{10} = 01001 \\\\\n",
    "(20)_{10} = 010100\n",
    "$\n",
    "\n",
    "### 2's Complement Binary form for Negative Integers\n",
    "A negative integers `-x` is written in binary as `x-1` and all the bits complemented. For example, `-4` is complement(4-1) = `complement(3)` = `...1111111100`.\n",
    "\n",
    "The binary form of negative numbers in written with leading `1`s instead on `0`s. Python uses infinite number of bits. For example, -5 is treated by the bitwise operators in python as `...111111111011`. -4 is treated by the bitwise operators in python as `...11111111100`. "
   ]
  },
  {
   "cell_type": "markdown",
   "id": "6b32d677-3abb-4584-97c7-895bf24832c3",
   "metadata": {},
   "source": [
    "### Bitwise Operators\n",
    "- `x << y`\n",
    "\n",
    "    Returns the bits of `x` shifted to the left by `y` places (the new bits on the left are `0`). The same as `x * (2**y)`.\n",
    "    \n",
    "    $(11)_{10}$ << $(3)_{10}$ = 1011 << $(3)_{10}$ = 1011000"
   ]
  },
  {
   "cell_type": "code",
   "execution_count": 1,
   "id": "e6aa2be6-8ba2-4179-93a2-180310bd2ae0",
   "metadata": {},
   "outputs": [
    {
     "data": {
      "text/plain": [
       "88"
      ]
     },
     "execution_count": 1,
     "metadata": {},
     "output_type": "execute_result"
    }
   ],
   "source": [
    "x = 11\n",
    "y = 3\n",
    "a = x << y\n",
    "a"
   ]
  },
  {
   "cell_type": "code",
   "execution_count": 2,
   "id": "6cdc4d50-1bb2-4c09-a1c4-07b3b5847432",
   "metadata": {},
   "outputs": [
    {
     "data": {
      "text/plain": [
       "88"
      ]
     },
     "execution_count": 2,
     "metadata": {},
     "output_type": "execute_result"
    }
   ],
   "source": [
    "x*(2**y)"
   ]
  },
  {
   "cell_type": "code",
   "execution_count": 3,
   "id": "9d2a3cb7-b630-499f-91d2-24aa61411fc2",
   "metadata": {},
   "outputs": [
    {
     "data": {
      "text/plain": [
       "'0b1011'"
      ]
     },
     "execution_count": 3,
     "metadata": {},
     "output_type": "execute_result"
    }
   ],
   "source": [
    "bin(x)"
   ]
  },
  {
   "cell_type": "code",
   "execution_count": 4,
   "id": "99a3e269-7c15-44f1-884d-8f93d36acd62",
   "metadata": {},
   "outputs": [
    {
     "data": {
      "text/plain": [
       "'0b1011000'"
      ]
     },
     "execution_count": 4,
     "metadata": {},
     "output_type": "execute_result"
    }
   ],
   "source": [
    "bin(a)"
   ]
  },
  {
   "cell_type": "code",
   "execution_count": 5,
   "id": "a8b90ba6-85e0-4edc-ac56-93e78924c899",
   "metadata": {},
   "outputs": [
    {
     "data": {
      "text/plain": [
       "'0b1011000'"
      ]
     },
     "execution_count": 5,
     "metadata": {},
     "output_type": "execute_result"
    }
   ],
   "source": [
    "bin(x*(2**y))"
   ]
  },
  {
   "cell_type": "markdown",
   "id": "5764e9b9-d137-4efa-8c0e-fee53a541286",
   "metadata": {},
   "source": [
    "- `x >> y`\n",
    "\n",
    "    Returns the bits of `x` shifted to the right by `y` places. The same as `x // (2**y)`.\n",
    "    \n",
    "    $(11)_{10}$ >> $(3)_{10}$ = 1011 >> $(3)_{10}$ = 1"
   ]
  },
  {
   "cell_type": "code",
   "execution_count": 6,
   "id": "99ea4df1-b287-4987-8edf-397e515763fb",
   "metadata": {},
   "outputs": [
    {
     "data": {
      "text/plain": [
       "1"
      ]
     },
     "execution_count": 6,
     "metadata": {},
     "output_type": "execute_result"
    }
   ],
   "source": [
    "a = x >> y\n",
    "a"
   ]
  },
  {
   "cell_type": "code",
   "execution_count": 7,
   "id": "357abe96-e7cc-45b4-8096-e6e95d6e5005",
   "metadata": {},
   "outputs": [
    {
     "data": {
      "text/plain": [
       "1"
      ]
     },
     "execution_count": 7,
     "metadata": {},
     "output_type": "execute_result"
    }
   ],
   "source": [
    "x // (2**y)"
   ]
  },
  {
   "cell_type": "code",
   "execution_count": 8,
   "id": "a2eda9ab-ae43-4388-b736-5356933de899",
   "metadata": {},
   "outputs": [
    {
     "data": {
      "text/plain": [
       "'0b1'"
      ]
     },
     "execution_count": 8,
     "metadata": {},
     "output_type": "execute_result"
    }
   ],
   "source": [
    "bin(a)"
   ]
  },
  {
   "cell_type": "code",
   "execution_count": 9,
   "id": "e66c3bac-fe86-4725-94ba-f5b9944bed0f",
   "metadata": {},
   "outputs": [
    {
     "data": {
      "text/plain": [
       "'0b1'"
      ]
     },
     "execution_count": 9,
     "metadata": {},
     "output_type": "execute_result"
    }
   ],
   "source": [
    "bin(x//(2**y))"
   ]
  },
  {
   "cell_type": "markdown",
   "id": "de30610e-6695-407a-8dbc-da995b813bfe",
   "metadata": {},
   "source": [
    "- `x & y`\n",
    "\n",
    "    Performs a bitwise AND operation. Each bit in the output is `1` if the corresponding bits in `x` and `y` are `1`, otherwise it's `0`.\n",
    "    \n",
    "    $(11)_{10}$ & $(7)_{10}$ = 1011 & 111 = 11 = $(3)_{10}$"
   ]
  },
  {
   "cell_type": "code",
   "execution_count": 10,
   "id": "1eb779db-ffa3-494c-8e0f-7cb7d81e4614",
   "metadata": {},
   "outputs": [
    {
     "data": {
      "text/plain": [
       "3"
      ]
     },
     "execution_count": 10,
     "metadata": {},
     "output_type": "execute_result"
    }
   ],
   "source": [
    "x = 11\n",
    "y = 7\n",
    "a = x & y\n",
    "a"
   ]
  },
  {
   "cell_type": "code",
   "execution_count": 11,
   "id": "821c5d4b-1203-41c6-8102-b130317a9ccd",
   "metadata": {},
   "outputs": [
    {
     "data": {
      "text/plain": [
       "'0b11'"
      ]
     },
     "execution_count": 11,
     "metadata": {},
     "output_type": "execute_result"
    }
   ],
   "source": [
    "bin(a)"
   ]
  },
  {
   "cell_type": "markdown",
   "id": "7da102dc-7f64-4d2c-8564-18ae38d3a2cf",
   "metadata": {},
   "source": [
    "- `x | y`\n",
    "\n",
    "    Performs a bitwise OR operation. Each bit in the output is `1` if the corresponding bits in `x` or `y` are `1`, otherwise it's `0`.\n",
    "    \n",
    "    $(11)_{10}$ & $(7)_{10}$ = 1011 & 111 = 1111 = $(15)_{10}$"
   ]
  },
  {
   "cell_type": "code",
   "execution_count": 12,
   "id": "6448a8b5-02e5-4493-9a3e-7352f5bc47c5",
   "metadata": {},
   "outputs": [
    {
     "data": {
      "text/plain": [
       "15"
      ]
     },
     "execution_count": 12,
     "metadata": {},
     "output_type": "execute_result"
    }
   ],
   "source": [
    "a = x | y\n",
    "a"
   ]
  },
  {
   "cell_type": "code",
   "execution_count": 13,
   "id": "9bc2d855-6b78-4418-892d-a8af86e55e1e",
   "metadata": {},
   "outputs": [
    {
     "data": {
      "text/plain": [
       "'0b1111'"
      ]
     },
     "execution_count": 13,
     "metadata": {},
     "output_type": "execute_result"
    }
   ],
   "source": [
    "bin(a)"
   ]
  },
  {
   "cell_type": "markdown",
   "id": "a4ca2ece-c818-495b-8902-ba7196aeb289",
   "metadata": {},
   "source": [
    "- `~x`\n",
    "\n",
    "    Returns the complement of `x`.\n",
    "    \n",
    "    ~$(11)_{10}$ = ~1011 = 10100 = $-(12)_{10}$"
   ]
  },
  {
   "cell_type": "code",
   "execution_count": 14,
   "id": "5c3a97a1-34ed-428c-b773-31ccce50e993",
   "metadata": {},
   "outputs": [
    {
     "data": {
      "text/plain": [
       "-12"
      ]
     },
     "execution_count": 14,
     "metadata": {},
     "output_type": "execute_result"
    }
   ],
   "source": [
    "a = ~x\n",
    "a"
   ]
  },
  {
   "cell_type": "markdown",
   "id": "103ee621-14ab-47aa-95d5-9a6d2c280ce0",
   "metadata": {},
   "source": [
    "- `x ^ y`\n",
    "\n",
    "    Performs a bitwise exclusive OR. Each bit in the output is the same as the corresponding bit in `x` if that bit in `y` is `0`. The output bit is the complement of the corresponding bit in `x` if that bit in `y` is `1`.\n",
    "    \n",
    "    $(11)_{10}$ ^ $(7)_{10}$ = 1011 & 111 = 1100 = $(12)_{10}$"
   ]
  },
  {
   "cell_type": "code",
   "execution_count": 15,
   "id": "3f412098-f8ee-4dab-8987-1da21e17a42f",
   "metadata": {},
   "outputs": [
    {
     "data": {
      "text/plain": [
       "12"
      ]
     },
     "execution_count": 15,
     "metadata": {},
     "output_type": "execute_result"
    }
   ],
   "source": [
    "a = x ^ y\n",
    "a"
   ]
  },
  {
   "cell_type": "markdown",
   "id": "a53a005c-7642-47e9-a42b-92ffef976c14",
   "metadata": {},
   "source": [
    "## Set Operations"
   ]
  },
  {
   "cell_type": "markdown",
   "id": "bd94b7ff-19a0-439b-9a3a-5fa624673b53",
   "metadata": {},
   "source": [
    "Assume we have two sets `A` and `B`. We have the following set operations in python,\n",
    "\n",
    "- `A | B` returns the union.\n",
    "\n",
    "<img src=\"https://www.linuxtopia.org/online_books/programming_books/python_programming/images/p2c6-union.png\" alt=\"\">\n",
    "\n",
    "- `A & B` returns the intersection.\n",
    "\n",
    "<img src=\"https://www.linuxtopia.org/online_books/programming_books/python_programming/images/p2c6-intersection.png\" alt=\"\">\n",
    "\n",
    "- `A - B` returns the difference.\n",
    "\n",
    "<img src=\"https://www.linuxtopia.org/online_books/programming_books/python_programming/images/p2c6-difference.png\" alt=\"\">\n",
    "\n",
    "- `A ^ B` returns the symmetric difference.\n",
    "\n",
    "<img src=\"https://www.linuxtopia.org/online_books/programming_books/python_programming/images/p2c6-symmdiff.png\" alt=\"\">\n"
   ]
  },
  {
   "cell_type": "markdown",
   "id": "4e81cd5a-250e-4937-89ea-43832b81b3b8",
   "metadata": {},
   "source": [
    " "
   ]
  },
  {
   "cell_type": "markdown",
   "id": "2ff62e41-f21e-4fc0-8633-f563a1ba64fd",
   "metadata": {},
   "source": [
    " "
   ]
  },
  {
   "cell_type": "markdown",
   "id": "4b21df44-b9b6-4688-9baa-d85bff93f63d",
   "metadata": {},
   "source": [
    " "
   ]
  }
 ],
 "metadata": {
  "kernelspec": {
   "display_name": "Python 3 (ipykernel)",
   "language": "python",
   "name": "python3"
  },
  "language_info": {
   "codemirror_mode": {
    "name": "ipython",
    "version": 3
   },
   "file_extension": ".py",
   "mimetype": "text/x-python",
   "name": "python",
   "nbconvert_exporter": "python",
   "pygments_lexer": "ipython3",
   "version": "3.9.5"
  }
 },
 "nbformat": 4,
 "nbformat_minor": 5
}
